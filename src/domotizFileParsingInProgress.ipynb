{
 "cells": [
  {
   "cell_type": "code",
   "execution_count": 20,
   "metadata": {},
   "outputs": [
    {
     "name": "stdout",
     "output_type": "stream",
     "text": [
      "(1996, 2)\n",
      "1996\n",
      "['swx-u-range-sensor-motion-1 Switch >> OFF', 'swx-u-range-sensor-light-1 >> OFF', 'swx-u-range-sensor-light-1 >> ON', 'swx-u-range-sensor-motion-1 Switch >> ON', 'Alarm Off - Interior Motion - Room 1', 'Alarm - Interior Motion - Room 2', 'Alarm - Interior Motion', 'Alarm Off', 'Alarm - Interior Motion - Room 1', nan, 'swx-u-range-sensor-motion-1 Alarm type: 0x07 AC >> OFF', 'Alarm Off - Interior Motion - Room 2', 'Domoticz test message!', nan, 'Sensor swx-u-range-sensor-light-1 Last Update: 2018-03-19 18:11:22 [!= 1 minutes]', 'Sensor swx-u-range-sensor-light-1 Last Update: 2018-04-14 10:52:04 [!= 1 minutes]', 'Plug (Wink Turned On', 'MotionSensorRoom1 - Motion Detected', 'Smart Plug (AP) Turned On', 'Hallway1 - Motion Detected', 'Hallway1 - Alarm Off', 'Lock1 Unlocked', 'MotionSensorRoom1 - Monitoring', 'Lock1 Locked', 'Plug (Wink Turned Off', 'Lamp Turned On', 'Sensor swx-u-range-sensor-light-1 Last Update: 2018-04-17 18:11:20 [!= 1 minutes]', 'Sensor swx-u-range-sensor-light-1 Last Update: 2018-04-18 06:51:50 [!= 1 minutes]', 'Sensor swx-u-range-sensor-light-1 Last Update: 2018-04-18 19:51:31 [!= 1 minutes]', 'Sensor swx-u-range-sensor-light-1 Last Update: 2018-04-19 07:17:48 [!= 1 minutes]', 'Sensor swx-u-range-sensor-light-1 Last Update: 2018-04-19 18:11:41 [!= 1 minutes]', 'Sensor swx-u-range-sensor-light-1 Last Update: 2018-04-20 06:49:16 [!= 1 minutes]']\n",
      "32\n"
     ]
    }
   ],
   "source": [
    "import json\n",
    "import pandas as pd\n",
    "import scipy\n",
    "import numpy as np\n",
    "import matplotlib.pyplot as plt\n",
    "from matplotlib import style\n",
    "style.use('ggplot')\n",
    "from sklearn.cluster import KMeans\n",
    "from sklearn import preprocessing, cross_validation\n",
    "from pandas.io.json import json_normalize\n",
    "import os\n",
    "\n",
    "#!!!!!!!!!!!!\n",
    "#read from multiple json files in a folder and parse the data\n",
    "data = [] #list to store data\n",
    "path = 'C:/Users/maxjf/Summer Internship 2018/domoticz Files' #make a folder and put all json files u want to use in it.\n",
    "                                               #This value should be the path to that folder\n",
    "                                                #NOTE: the .py file and the .json files need to be in the same location\n",
    "                                                #I would make a new folder, write the .py file in that folder, and only store it and json files in the folder\n",
    "listing = os.listdir(path)\n",
    "for infile in listing: #for every file in this folder\n",
    "    if infile.endswith(\".json\"): #if it's a json file\n",
    "        for line in open(infile): #read every line of the file\n",
    "            data.append(json.loads(line)) #put every line into the list\n",
    "df = pd.DataFrame.from_dict(json_normalize(data), orient='columns') #put data from list into a DataFrame\n",
    "#look on manipData2.py for other methods on how to change data in the DataFrame\n",
    "\n",
    "#format data\n",
    "\n",
    "#choose certain columns\n",
    "df = df[['_id','_source.message']]\n",
    "\n",
    " #convert _id column to datetime\n",
    "#df._id = pd.to_datetime(df._id)\n",
    "\n",
    " #show only time from date time\n",
    "#df['time'] = [d.time() for d in df['_id']]\n",
    "\n",
    " #show only date from date time\n",
    "#df['dates'] = [d.time() for d in df['_id']]\n",
    "\n",
    "#sort values by specified column\n",
    "#df = df.sort_values(by=['_id'])\n",
    "\n",
    "#describe our dataset\n",
    "print(df.shape)\n",
    "size = df.shape\n",
    "numRows = size[0]\n",
    "print(numRows)\n",
    "uniqueMessageList = []\n",
    "#df.head(100)\n",
    "\n",
    "for x in range(numRows):\n",
    "    message = df.iloc[x,1]\n",
    "    if x == 0:\n",
    "        uniqueMessageList.append(message)\n",
    "    else:\n",
    "        flag = True;\n",
    "        for r in range(len(uniqueMessageList)):\n",
    "            if message == uniqueMessageList[r]:\n",
    "                flag = False;\n",
    "        if flag:\n",
    "            uniqueMessageList.append(message)\n",
    "            \n",
    "\n",
    "print(uniqueMessageList)\n",
    "print(len(uniqueMessageList))\n",
    "\n"
   ]
  },
  {
   "cell_type": "code",
   "execution_count": null,
   "metadata": {},
   "outputs": [],
   "source": []
  }
 ],
 "metadata": {
  "kernelspec": {
   "display_name": "Python 3",
   "language": "python",
   "name": "python3"
  },
  "language_info": {
   "codemirror_mode": {
    "name": "ipython",
    "version": 3
   },
   "file_extension": ".py",
   "mimetype": "text/x-python",
   "name": "python",
   "nbconvert_exporter": "python",
   "pygments_lexer": "ipython3",
   "version": "3.6.5"
  }
 },
 "nbformat": 4,
 "nbformat_minor": 2
}
